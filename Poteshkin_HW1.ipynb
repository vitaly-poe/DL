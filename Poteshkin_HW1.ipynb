{
 "cells": [
  {
   "cell_type": "markdown",
   "metadata": {},
   "source": [
    "# HW \\#1"
   ]
  },
  {
   "cell_type": "code",
   "execution_count": 6,
   "metadata": {},
   "outputs": [],
   "source": [
    "import xml.etree.ElementTree as ET\n",
    "import pandas as pd\n",
    "import numpy as np\n",
    "from sklearn.metrics import accuracy_score\n",
    "from sklearn.linear_model import LogisticRegression\n",
    "\n",
    "from nltk.tokenize import RegexpTokenizer\n",
    "from nltk.stem.snowball import SnowballStemmer \n",
    "from nltk.corpus import stopwords\n",
    "import gensim\n",
    "from sklearn.feature_extraction.text import TfidfVectorizer\n",
    "\n",
    "import warnings\n",
    "warnings.filterwarnings('ignore')"
   ]
  },
  {
   "cell_type": "markdown",
   "metadata": {},
   "source": [
    "## Parse xml"
   ]
  },
  {
   "cell_type": "code",
   "execution_count": 7,
   "metadata": {},
   "outputs": [],
   "source": [
    "class XML2DataFrame:\n",
    "    def __init__(self, xml_path):\n",
    "        xml_data = open(xml_path, encoding='utf-8')\n",
    "        self.root = ET.XML(xml_data.read())[1]\n",
    "\n",
    "    def parse_root(self, root):\n",
    "        return [self.parse_element(child) for child in iter(root)]\n",
    "\n",
    "    def parse_element(self, element, parsed=None):\n",
    "        if parsed is None:\n",
    "            parsed = dict()\n",
    "        for key in element.keys():\n",
    "            parsed[key] = element.attrib.get(key)\n",
    "        if element.text:\n",
    "            parsed[element.attrib[\"name\"]] = None if element.text == \"NULL\" else element.text\n",
    "        for child in list(element):\n",
    "            self.parse_element(child, parsed)\n",
    "        return parsed\n",
    "\n",
    "    def process_data(self):\n",
    "        structure_data = self.parse_root(self.root)\n",
    "        return pd.DataFrame(structure_data)"
   ]
  },
  {
   "cell_type": "code",
   "execution_count": 8,
   "metadata": {},
   "outputs": [],
   "source": [
    "tkk_train_raw = XML2DataFrame(\"SentiRuEval/tkk_train_2016.xml\").process_data().fillna(0)\n",
    "bank_train_raw = XML2DataFrame(\"SentiRuEval/bank_train_2016.xml\").process_data().fillna(0)\n",
    "\n",
    "tkk_test_raw = XML2DataFrame(\"SentiRuEval/tkk_test_etalon.xml\").process_data().fillna(0)\n",
    "bank_test_raw = XML2DataFrame(\"SentiRuEval/banks_test_etalon.xml\").process_data().fillna(0)"
   ]
  },
  {
   "cell_type": "markdown",
   "metadata": {},
   "source": [
    "## Construct train and test"
   ]
  },
  {
   "cell_type": "code",
   "execution_count": 9,
   "metadata": {},
   "outputs": [],
   "source": [
    "tkk_train_text = tkk_train_raw['text'].values\n",
    "tkk_test_text = tkk_test_raw['text'].values\n",
    "tkk_train_labels = tkk_train_raw[[\"beeline\", \"komstar\", \"mts\", \"rostelecom\", \"skylink\", \"tele2\"]].astype(int).sum(axis=1).values\n",
    "tkk_test_labels = tkk_test_raw[[\"beeline\", \"komstar\", \"mts\", \"rostelecom\", \"skylink\", \"tele2\"]].astype(int).sum(axis=1).values\n",
    "\n",
    "bank_train_text = bank_train_raw['text'].values\n",
    "bank_test_text = bank_test_raw['text'].values\n",
    "bank_train_labels = bank_train_raw[['alfabank','bankmoskvy','gazprom','raiffeisen','rshb','sberbank','uralsib','vtb']].astype(int).sum(axis=1).values\n",
    "bank_test_labels = bank_test_raw[['alfabank','bankmoskvy','gazprom','raiffeisen','rshb','sberbank','uralsib','vtb']].astype(int).sum(axis=1).values"
   ]
  },
  {
   "cell_type": "markdown",
   "metadata": {},
   "source": [
    "## Preprocess text: tokenize, stem, delete stopwords"
   ]
  },
  {
   "cell_type": "raw",
   "metadata": {},
   "source": [
    "stop_words = stopwords.words('russian')\n",
    "sb_stemmer = SnowballStemmer('russian')\n",
    "\n",
    "def tokenize(text):\n",
    "    tokens = RegexpTokenizer(r'\\w+').tokenize(text)\n",
    "    tokens = [sb_stemmer.stem(token) for token in tokens]    \n",
    "    return tokens"
   ]
  },
  {
   "cell_type": "code",
   "execution_count": 10,
   "metadata": {},
   "outputs": [],
   "source": [
    "stop_words = stopwords.words('russian')\n",
    "sb_stemmer = SnowballStemmer('russian')\n",
    "\n",
    "def tokenize(text):\n",
    "    tokens = RegexpTokenizer(r'\\w+').tokenize(text)\n",
    "    tokens = [sb_stemmer.stem(token) for token in tokens if token not in stop_words]    \n",
    "    return tokens"
   ]
  },
  {
   "cell_type": "code",
   "execution_count": 11,
   "metadata": {},
   "outputs": [],
   "source": [
    "tkk_train_text = [tokenize(text) for text in tkk_train_text]\n",
    "tkk_test_text = [tokenize(text) for text in tkk_test_text]\n",
    "\n",
    "bank_train_text = [tokenize(text) for text in bank_train_text]\n",
    "bank_test_text = [tokenize(text) for text in bank_test_text]"
   ]
  },
  {
   "cell_type": "markdown",
   "metadata": {},
   "source": [
    "## Train Word2Vec and TF-IDF"
   ]
  },
  {
   "cell_type": "code",
   "execution_count": 37,
   "metadata": {},
   "outputs": [
    {
     "data": {
      "text/plain": [
       "(50997, 130195)"
      ]
     },
     "execution_count": 37,
     "metadata": {},
     "output_type": "execute_result"
    }
   ],
   "source": [
    "tkk_w2v = gensim.models.Word2Vec(tkk_train_text, min_count=25, size=100)\n",
    "tkk_w2v.train(tkk_test_text, total_examples=tkk_w2v.corpus_count, epochs=tkk_w2v.epochs)"
   ]
  },
  {
   "cell_type": "code",
   "execution_count": 38,
   "metadata": {},
   "outputs": [
    {
     "data": {
      "text/plain": [
       "TfidfVectorizer(analyzer='word', binary=False, decode_error='strict',\n",
       "        dtype=<class 'numpy.float64'>, encoding='utf-8', input='content',\n",
       "        lowercase=True, max_df=1.0, max_features=None, min_df=1,\n",
       "        ngram_range=(1, 1), norm='l2', preprocessor=None, smooth_idf=True,\n",
       "        stop_words=None, strip_accents=None, sublinear_tf=False,\n",
       "        token_pattern='(?u)\\\\b\\\\w\\\\w+\\\\b', tokenizer=None, use_idf=True,\n",
       "        vocabulary=None)"
      ]
     },
     "execution_count": 38,
     "metadata": {},
     "output_type": "execute_result"
    },
    {
     "data": {
      "text/plain": [
       "TfidfVectorizer(analyzer='word', binary=False, decode_error='strict',\n",
       "        dtype=<class 'numpy.float64'>, encoding='utf-8', input='content',\n",
       "        lowercase=True, max_df=1.0, max_features=None, min_df=1,\n",
       "        ngram_range=(1, 1), norm='l2', preprocessor=None, smooth_idf=True,\n",
       "        stop_words=None, strip_accents=None, sublinear_tf=False,\n",
       "        token_pattern='(?u)\\\\b\\\\w\\\\w+\\\\b', tokenizer=None, use_idf=True,\n",
       "        vocabulary=None)"
      ]
     },
     "execution_count": 38,
     "metadata": {},
     "output_type": "execute_result"
    }
   ],
   "source": [
    "tkk_vect = TfidfVectorizer()\n",
    "tkk_vect.fit([' '.join(text) for text in tkk_train_text])\n",
    "tkk_vect.fit([' '.join(text) for text in tkk_test_text])"
   ]
  },
  {
   "cell_type": "code",
   "execution_count": 39,
   "metadata": {},
   "outputs": [
    {
     "data": {
      "text/plain": [
       "(60864, 193745)"
      ]
     },
     "execution_count": 39,
     "metadata": {},
     "output_type": "execute_result"
    }
   ],
   "source": [
    "bank_w2v = gensim.models.Word2Vec(bank_train_text, min_count=25, size=100)\n",
    "bank_w2v.train(bank_test_text, total_examples=bank_w2v.corpus_count, epochs=bank_w2v.epochs)"
   ]
  },
  {
   "cell_type": "code",
   "execution_count": 40,
   "metadata": {
    "scrolled": false
   },
   "outputs": [
    {
     "data": {
      "text/plain": [
       "TfidfVectorizer(analyzer='word', binary=False, decode_error='strict',\n",
       "        dtype=<class 'numpy.float64'>, encoding='utf-8', input='content',\n",
       "        lowercase=True, max_df=1.0, max_features=None, min_df=1,\n",
       "        ngram_range=(1, 1), norm='l2', preprocessor=None, smooth_idf=True,\n",
       "        stop_words=None, strip_accents=None, sublinear_tf=False,\n",
       "        token_pattern='(?u)\\\\b\\\\w\\\\w+\\\\b', tokenizer=None, use_idf=True,\n",
       "        vocabulary=None)"
      ]
     },
     "execution_count": 40,
     "metadata": {},
     "output_type": "execute_result"
    },
    {
     "data": {
      "text/plain": [
       "TfidfVectorizer(analyzer='word', binary=False, decode_error='strict',\n",
       "        dtype=<class 'numpy.float64'>, encoding='utf-8', input='content',\n",
       "        lowercase=True, max_df=1.0, max_features=None, min_df=1,\n",
       "        ngram_range=(1, 1), norm='l2', preprocessor=None, smooth_idf=True,\n",
       "        stop_words=None, strip_accents=None, sublinear_tf=False,\n",
       "        token_pattern='(?u)\\\\b\\\\w\\\\w+\\\\b', tokenizer=None, use_idf=True,\n",
       "        vocabulary=None)"
      ]
     },
     "execution_count": 40,
     "metadata": {},
     "output_type": "execute_result"
    }
   ],
   "source": [
    "bank_vect = TfidfVectorizer()\n",
    "bank_vect.fit([' '.join(text) for text in bank_train_text])\n",
    "bank_vect.fit([' '.join(text) for text in bank_test_text])"
   ]
  },
  {
   "cell_type": "markdown",
   "metadata": {},
   "source": [
    "\n",
    "## LogReg on TF-IDF"
   ]
  },
  {
   "cell_type": "code",
   "execution_count": 41,
   "metadata": {},
   "outputs": [],
   "source": [
    "tkk_X_train = tkk_vect.transform([' '.join(text) for text in tkk_train_text])\n",
    "tkk_X_test = tkk_vect.transform([' '.join(text) for text in tkk_test_text])"
   ]
  },
  {
   "cell_type": "code",
   "execution_count": 42,
   "metadata": {},
   "outputs": [
    {
     "name": "stdout",
     "output_type": "stream",
     "text": [
      "Accuracy for tkk on TF-IDF LogReg:  0.6386292834890965\n"
     ]
    }
   ],
   "source": [
    "tkk_logreg = LogisticRegression().fit(tkk_X_train, tkk_train_labels)\n",
    "tkk_predicted_labels = tkk_logreg.predict(tkk_X_test)\n",
    "print('Accuracy for tkk on TF-IDF LogReg: ', \n",
    "accuracy_score(tkk_test_labels, tkk_predicted_labels))\n",
    "\n",
    "# 0.6528704939919893, if we do not delete stopwords"
   ]
  },
  {
   "cell_type": "code",
   "execution_count": 43,
   "metadata": {
    "scrolled": true
   },
   "outputs": [
    {
     "name": "stdout",
     "output_type": "stream",
     "text": [
      "Accuracy for bank on TF-IDF LogReg:  0.7398128584364624\n"
     ]
    }
   ],
   "source": [
    "bank_X_train = bank_vect.transform([' '.join(text) for text in bank_train_text])\n",
    "bank_X_test = bank_vect.transform([' '.join(text) for text in bank_test_text])\n",
    "\n",
    "bank_logreg = LogisticRegression().fit(bank_X_train, bank_train_labels)\n",
    "bank_predicted_labels = bank_logreg.predict(bank_X_test)\n",
    "print('Accuracy for bank on TF-IDF LogReg: ', \n",
    "accuracy_score(bank_test_labels, bank_predicted_labels))\n",
    "\n",
    "# 0.7494717778448536, if we do not delete stopwords"
   ]
  },
  {
   "cell_type": "markdown",
   "metadata": {},
   "source": [
    "## Feature matrix for Word2Vec+IDF"
   ]
  },
  {
   "cell_type": "code",
   "execution_count": 44,
   "metadata": {},
   "outputs": [],
   "source": [
    "def get_features_of_text(text, feature_names, w2v, tf_idf):\n",
    "    output_vector = np.zeros(w2v.layer1_size)\n",
    "    for word in text:\n",
    "        try:\n",
    "            # each word vector in sum is weighted by IDF coef.\n",
    "            output_vector += w2v.wv[word]*tf_idf.idf_[feature_names.index(word)]\n",
    "        except:\n",
    "            pass\n",
    "    return output_vector"
   ]
  },
  {
   "cell_type": "code",
   "execution_count": 45,
   "metadata": {},
   "outputs": [],
   "source": [
    "tkk_feature_names = tkk_vect.get_feature_names()\n",
    "tkk_X_train = np.array([get_features_of_text(text, tkk_feature_names, tkk_w2v, tkk_vect) \n",
    "                        for text in tkk_train_text])\n",
    "tkk_X_test = np.array([get_features_of_text(text, tkk_feature_names, tkk_w2v, tkk_vect) \n",
    "                       for text in tkk_test_text])"
   ]
  },
  {
   "cell_type": "code",
   "execution_count": 46,
   "metadata": {},
   "outputs": [],
   "source": [
    "bank_feature_names = bank_vect.get_feature_names()\n",
    "bank_X_train = np.array([get_features_of_text(text, bank_feature_names, bank_w2v, bank_vect) \n",
    "                        for text in bank_train_text])\n",
    "bank_X_test = np.array([get_features_of_text(text, bank_feature_names, bank_w2v, bank_vect) \n",
    "                       for text in bank_test_text])"
   ]
  },
  {
   "cell_type": "markdown",
   "metadata": {},
   "source": [
    "## LogReg on Word2Vec+IDF"
   ]
  },
  {
   "cell_type": "code",
   "execution_count": 47,
   "metadata": {},
   "outputs": [
    {
     "data": {
      "text/plain": [
       "LogisticRegression(C=1.0, class_weight=None, dual=False, fit_intercept=True,\n",
       "          intercept_scaling=1, max_iter=100, multi_class='warn',\n",
       "          n_jobs=None, penalty='l2', random_state=None, solver='warn',\n",
       "          tol=0.0001, verbose=0, warm_start=False)"
      ]
     },
     "execution_count": 47,
     "metadata": {},
     "output_type": "execute_result"
    },
    {
     "name": "stdout",
     "output_type": "stream",
     "text": [
      "Accuracy for tkk on Word2Vec-IDF:  0.57543391188251\n"
     ]
    }
   ],
   "source": [
    "tkk_logreg = LogisticRegression()\n",
    "tkk_logreg.fit(tkk_X_train, tkk_train_labels)\n",
    "tkk_predicted_y = tkk_logreg.predict(tkk_X_test)\n",
    "print('Accuracy for tkk on Word2Vec-IDF: ', accuracy_score(tkk_predicted_y, tkk_test_labels))\n",
    "\n",
    "# 0.5287049399198932, if we do not delete stopwords"
   ]
  },
  {
   "cell_type": "code",
   "execution_count": 49,
   "metadata": {},
   "outputs": [
    {
     "data": {
      "text/plain": [
       "LogisticRegression(C=1.0, class_weight=None, dual=False, fit_intercept=True,\n",
       "          intercept_scaling=1, max_iter=100, multi_class='warn',\n",
       "          n_jobs=None, penalty='l2', random_state=None, solver='warn',\n",
       "          tol=0.0001, verbose=0, warm_start=False)"
      ]
     },
     "execution_count": 49,
     "metadata": {},
     "output_type": "execute_result"
    },
    {
     "name": "stdout",
     "output_type": "stream",
     "text": [
      "Accuracy for bank on Word2Vec-IDF:  0.7153637186839722\n"
     ]
    }
   ],
   "source": [
    "bank_logreg = LogisticRegression()\n",
    "bank_logreg.fit(bank_X_train, bank_train_labels)\n",
    "bank_predicted_y = bank_logreg.predict(bank_X_test)\n",
    "print('Accuracy for bank on Word2Vec-IDF: ', \n",
    "      accuracy_score(bank_predicted_y, bank_test_labels))\n",
    "\n",
    "# 0.6779354059764564, if we do not delete stopwords"
   ]
  }
 ],
 "metadata": {
  "kernelspec": {
   "display_name": "Python 3",
   "language": "python",
   "name": "python3"
  },
  "language_info": {
   "codemirror_mode": {
    "name": "ipython",
    "version": 3
   },
   "file_extension": ".py",
   "mimetype": "text/x-python",
   "name": "python",
   "nbconvert_exporter": "python",
   "pygments_lexer": "ipython3",
   "version": "3.7.1"
  }
 },
 "nbformat": 4,
 "nbformat_minor": 2
}
